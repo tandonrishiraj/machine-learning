{
 "cells": [
  {
   "cell_type": "code",
   "execution_count": 63,
   "metadata": {},
   "outputs": [],
   "source": [
    "# Importing the libraries\n",
    "import pandas as pd\n",
    "import numpy as np\n",
    "from sklearn.model_selection import train_test_split\n",
    "from sklearn.metrics import classification_report, confusion_matrix, accuracy_score\n",
    "from sklearn.metrics import roc_curve, auc\n",
    "from matplotlib import pyplot as plt\n",
    "import matplotlib\n",
    "matplotlib.style.use('ggplot')\n",
    "\n",
    "%matplotlib inline"
   ]
  },
  {
   "cell_type": "code",
   "execution_count": 64,
   "metadata": {},
   "outputs": [],
   "source": [
    "# Importing the dataset\n",
    "bookingData = pd.read_csv('C:\\Rishi\\Manipal\\Assignment\\TB_Data.csv', encoding=\"Latin\")"
   ]
  },
  {
   "cell_type": "code",
   "execution_count": 65,
   "metadata": {},
   "outputs": [
    {
     "data": {
      "text/html": [
       "<div>\n",
       "<style scoped>\n",
       "    .dataframe tbody tr th:only-of-type {\n",
       "        vertical-align: middle;\n",
       "    }\n",
       "\n",
       "    .dataframe tbody tr th {\n",
       "        vertical-align: top;\n",
       "    }\n",
       "\n",
       "    .dataframe thead th {\n",
       "        text-align: right;\n",
       "    }\n",
       "</style>\n",
       "<table border=\"1\" class=\"dataframe\">\n",
       "  <thead>\n",
       "    <tr style=\"text-align: right;\">\n",
       "      <th></th>\n",
       "      <th>BookingStatus</th>\n",
       "      <th>Wno</th>\n",
       "      <th>ClassOfTravel</th>\n",
       "      <th>JourneyDate</th>\n",
       "      <th>Weekdays</th>\n",
       "      <th>Month</th>\n",
       "      <th>Days</th>\n",
       "      <th>Astatus</th>\n",
       "    </tr>\n",
       "  </thead>\n",
       "  <tbody>\n",
       "    <tr>\n",
       "      <th>0</th>\n",
       "      <td>WL</td>\n",
       "      <td>9</td>\n",
       "      <td>3A</td>\n",
       "      <td>2/12/2016</td>\n",
       "      <td>6</td>\n",
       "      <td>12</td>\n",
       "      <td>2</td>\n",
       "      <td>1</td>\n",
       "    </tr>\n",
       "    <tr>\n",
       "      <th>1</th>\n",
       "      <td>WL</td>\n",
       "      <td>3</td>\n",
       "      <td>3A</td>\n",
       "      <td>1/12/2016</td>\n",
       "      <td>5</td>\n",
       "      <td>12</td>\n",
       "      <td>1</td>\n",
       "      <td>1</td>\n",
       "    </tr>\n",
       "    <tr>\n",
       "      <th>2</th>\n",
       "      <td>WL</td>\n",
       "      <td>1</td>\n",
       "      <td>2A</td>\n",
       "      <td>3/12/2016</td>\n",
       "      <td>7</td>\n",
       "      <td>12</td>\n",
       "      <td>3</td>\n",
       "      <td>0</td>\n",
       "    </tr>\n",
       "    <tr>\n",
       "      <th>3</th>\n",
       "      <td>WL</td>\n",
       "      <td>67</td>\n",
       "      <td>SL</td>\n",
       "      <td>3/12/2016</td>\n",
       "      <td>7</td>\n",
       "      <td>12</td>\n",
       "      <td>3</td>\n",
       "      <td>0</td>\n",
       "    </tr>\n",
       "    <tr>\n",
       "      <th>4</th>\n",
       "      <td>WL</td>\n",
       "      <td>61</td>\n",
       "      <td>SL</td>\n",
       "      <td>3/12/2016</td>\n",
       "      <td>7</td>\n",
       "      <td>12</td>\n",
       "      <td>3</td>\n",
       "      <td>0</td>\n",
       "    </tr>\n",
       "  </tbody>\n",
       "</table>\n",
       "</div>"
      ],
      "text/plain": [
       "  BookingStatus  Wno ClassOfTravel JourneyDate  Weekdays  Month  Days  Astatus\n",
       "0            WL    9            3A   2/12/2016         6     12     2        1\n",
       "1            WL    3            3A   1/12/2016         5     12     1        1\n",
       "2            WL    1            2A   3/12/2016         7     12     3        0\n",
       "3            WL   67            SL   3/12/2016         7     12     3        0\n",
       "4            WL   61            SL   3/12/2016         7     12     3        0"
      ]
     },
     "execution_count": 65,
     "metadata": {},
     "output_type": "execute_result"
    }
   ],
   "source": [
    "# Understanding dataset\n",
    "bookingData.shape\n",
    "bookingData.head()"
   ]
  },
  {
   "cell_type": "code",
   "execution_count": 66,
   "metadata": {},
   "outputs": [
    {
     "name": "stdout",
     "output_type": "stream",
     "text": [
      "BookingStatus    0\n",
      "Wno              0\n",
      "ClassOfTravel    0\n",
      "JourneyDate      0\n",
      "Weekdays         0\n",
      "Month            0\n",
      "Days             0\n",
      "Astatus          0\n",
      "dtype: int64\n"
     ]
    }
   ],
   "source": [
    "# Checking any null entry in dataset\n",
    "print(bookingData.isnull().sum(axis=0))"
   ]
  },
  {
   "cell_type": "code",
   "execution_count": 67,
   "metadata": {},
   "outputs": [
    {
     "name": "stdout",
     "output_type": "stream",
     "text": [
      "Index(['BookingStatus', 'Wno', 'ClassOfTravel', 'JourneyDate', 'Weekdays',\n",
      "       'Month', 'Days', 'Astatus'],\n",
      "      dtype='object')\n"
     ]
    }
   ],
   "source": [
    "# Printing columns of dataset\n",
    "print(bookingData.columns)"
   ]
  },
  {
   "cell_type": "code",
   "execution_count": 68,
   "metadata": {},
   "outputs": [],
   "source": [
    "# Removing not necessart data from dataset\n",
    "bookingData=bookingData.drop(['JourneyDate'], axis =1)"
   ]
  },
  {
   "cell_type": "code",
   "execution_count": 69,
   "metadata": {},
   "outputs": [
    {
     "name": "stdout",
     "output_type": "stream",
     "text": [
      "Index(['BookingStatus', 'Wno', 'ClassOfTravel', 'Weekdays', 'Month', 'Days',\n",
      "       'Astatus'],\n",
      "      dtype='object')\n"
     ]
    }
   ],
   "source": [
    "# Printing columns of dataset after dropping unnecessary column\n",
    "print(bookingData.columns)"
   ]
  },
  {
   "cell_type": "code",
   "execution_count": 70,
   "metadata": {},
   "outputs": [
    {
     "name": "stdout",
     "output_type": "stream",
     "text": [
      "['WL' 'TQWL']\n",
      "['3A' '2A' 'SL']\n"
     ]
    }
   ],
   "source": [
    "# Print the unique value in column BookingStatus, ClassOfTravel\n",
    "print(bookingData['BookingStatus'].unique())\n",
    "print(bookingData['ClassOfTravel'].unique())"
   ]
  },
  {
   "cell_type": "code",
   "execution_count": 71,
   "metadata": {},
   "outputs": [
    {
     "name": "stderr",
     "output_type": "stream",
     "text": [
      "C:\\Anaconda3\\lib\\site-packages\\ipykernel_launcher.py:2: SettingWithCopyWarning: \n",
      "A value is trying to be set on a copy of a slice from a DataFrame\n",
      "\n",
      "See the caveats in the documentation: http://pandas.pydata.org/pandas-docs/stable/indexing.html#indexing-view-versus-copy\n",
      "  \n",
      "C:\\Anaconda3\\lib\\site-packages\\ipykernel_launcher.py:3: SettingWithCopyWarning: \n",
      "A value is trying to be set on a copy of a slice from a DataFrame\n",
      "\n",
      "See the caveats in the documentation: http://pandas.pydata.org/pandas-docs/stable/indexing.html#indexing-view-versus-copy\n",
      "  This is separate from the ipykernel package so we can avoid doing imports until\n"
     ]
    }
   ],
   "source": [
    "# Convert string value of BookingStatus into Number\n",
    "bookingData.BookingStatus[bookingData.BookingStatus == 'WL'] = 0\n",
    "bookingData.BookingStatus[bookingData.BookingStatus == 'TQWL'] = 1\n",
    "bookingData.BookingStatus = bookingData.BookingStatus.astype('int')"
   ]
  },
  {
   "cell_type": "code",
   "execution_count": 72,
   "metadata": {},
   "outputs": [
    {
     "name": "stderr",
     "output_type": "stream",
     "text": [
      "C:\\Anaconda3\\lib\\site-packages\\ipykernel_launcher.py:2: SettingWithCopyWarning: \n",
      "A value is trying to be set on a copy of a slice from a DataFrame\n",
      "\n",
      "See the caveats in the documentation: http://pandas.pydata.org/pandas-docs/stable/indexing.html#indexing-view-versus-copy\n",
      "  \n",
      "C:\\Anaconda3\\lib\\site-packages\\ipykernel_launcher.py:3: SettingWithCopyWarning: \n",
      "A value is trying to be set on a copy of a slice from a DataFrame\n",
      "\n",
      "See the caveats in the documentation: http://pandas.pydata.org/pandas-docs/stable/indexing.html#indexing-view-versus-copy\n",
      "  This is separate from the ipykernel package so we can avoid doing imports until\n",
      "C:\\Anaconda3\\lib\\site-packages\\ipykernel_launcher.py:4: SettingWithCopyWarning: \n",
      "A value is trying to be set on a copy of a slice from a DataFrame\n",
      "\n",
      "See the caveats in the documentation: http://pandas.pydata.org/pandas-docs/stable/indexing.html#indexing-view-versus-copy\n",
      "  after removing the cwd from sys.path.\n"
     ]
    }
   ],
   "source": [
    "# Convert string value of ClassOfTravel into Number\n",
    "bookingData.ClassOfTravel[bookingData.ClassOfTravel == '3A'] = 0\n",
    "bookingData.ClassOfTravel[bookingData.ClassOfTravel == '2A'] = 1\n",
    "bookingData.ClassOfTravel[bookingData.ClassOfTravel == 'SL'] = 2\n",
    "bookingData.ClassOfTravel = bookingData.ClassOfTravel.astype('int')"
   ]
  },
  {
   "cell_type": "code",
   "execution_count": 73,
   "metadata": {},
   "outputs": [],
   "source": [
    "#Split into independent and dependent variable\n",
    "X=bookingData[['BookingStatus', 'Wno', 'ClassOfTravel', 'Weekdays', 'Month', 'Days']]\n",
    "y=bookingData.Astatus"
   ]
  },
  {
   "cell_type": "code",
   "execution_count": 74,
   "metadata": {},
   "outputs": [],
   "source": [
    "# Splitting the dataset into the Training set and Test set\n",
    "X_train, X_test, y_train, y_test = train_test_split(X, y, test_size=0.2, random_state=0)"
   ]
  },
  {
   "cell_type": "code",
   "execution_count": 75,
   "metadata": {},
   "outputs": [
    {
     "name": "stdout",
     "output_type": "stream",
     "text": [
      "Accuracy = 0.80\n"
     ]
    }
   ],
   "source": [
    "# Compute with RandomForest classification\n",
    "from sklearn.ensemble import RandomForestClassifier\n",
    "\n",
    "classifier = RandomForestClassifier(n_estimators=4, random_state=0)  \n",
    "classifier.fit(X_train, y_train)  \n",
    "y_pred = classifier.predict(X_test)  \n",
    "\n",
    "print('Accuracy = {:.2f}'.format(classifier.score(X_test,y_test)))"
   ]
  },
  {
   "cell_type": "code",
   "execution_count": 76,
   "metadata": {},
   "outputs": [
    {
     "name": "stdout",
     "output_type": "stream",
     "text": [
      "[[481  20]\n",
      " [110  34]]\n",
      "              precision    recall  f1-score   support\n",
      "\n",
      "           0       0.81      0.96      0.88       501\n",
      "           1       0.63      0.24      0.34       144\n",
      "\n",
      "   micro avg       0.80      0.80      0.80       645\n",
      "   macro avg       0.72      0.60      0.61       645\n",
      "weighted avg       0.77      0.80      0.76       645\n",
      "\n",
      "0.7984496124031008\n"
     ]
    }
   ],
   "source": [
    "# Calculating accuracy of model\n",
    "\n",
    "print(confusion_matrix(y_test,y_pred))  \n",
    "print(classification_report(y_test,y_pred))  \n",
    "print(accuracy_score(y_test, y_pred))  "
   ]
  },
  {
   "cell_type": "code",
   "execution_count": 77,
   "metadata": {},
   "outputs": [
    {
     "data": {
      "image/png": "[encoded data removed]",
      "text/plain": [
       "<Figure size 432x288 with 1 Axes>"
      ]
     },
     "metadata": {
      "needs_background": "light"
     },
     "output_type": "display_data"
    }
   ],
   "source": [
    "# Plot the ROC curve\n",
    "\n",
    "fpr, tpr, thresholds = roc_curve(y_test, y_pred)\n",
    "roc_auc = auc(fpr, tpr)\n",
    "\n",
    "plt.figure()\n",
    "plt.plot(fpr, tpr, color='darkorange', label='Random Forest')\n",
    "plt.plot([0, 1], [0, 1], color='navy', linestyle='--')\n",
    "plt.xlim([0.0, 1.0])\n",
    "plt.ylim([0.0, 1.05])\n",
    "plt.xlabel('False Positive Rate')\n",
    "plt.ylabel('True Positive Rate')\n",
    "plt.title('ROC curve (area = %0.2f)' % roc_auc)\n",
    "plt.legend(loc=\"best\")\n",
    "plt.show()"
   ]
  },
  {
   "cell_type": "code",
   "execution_count": null,
   "metadata": {},
   "outputs": [],
   "source": []
  }
 ],
 "metadata": {
  "kernelspec": {
   "display_name": "Python 3",
   "language": "python",
   "name": "python3"
  },
  "language_info": {
   "codemirror_mode": {
    "name": "ipython",
    "version": 3
   },
   "file_extension": ".py",
   "mimetype": "text/x-python",
   "name": "python",
   "nbconvert_exporter": "python",
   "pygments_lexer": "ipython3",
   "version": "3.7.1"
  }
 },
 "nbformat": 4,
 "nbformat_minor": 2
}

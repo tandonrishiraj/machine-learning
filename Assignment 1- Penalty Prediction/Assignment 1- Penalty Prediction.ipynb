{
 "cells": [
  {
   "cell_type": "code",
   "execution_count": 17,
   "metadata": {},
   "outputs": [],
   "source": [
    "# Importing the libraries\n",
    "import pandas as pd\n",
    "import numpy as np\n",
    "from sklearn.feature_selection import RFE\n",
    "from sklearn.model_selection import train_test_split\n",
    "from sklearn.metrics import classification_report, confusion_matrix, accuracy_score\n"
   ]
  },
  {
   "cell_type": "code",
   "execution_count": 2,
   "metadata": {},
   "outputs": [],
   "source": [
    "# Importing the dataset\n",
    "penaltyData = pd.read_csv('C:\\Rishi\\Manipal\\Assignment\\ML1_penalty_data.csv', encoding=\"Latin\")"
   ]
  },
  {
   "cell_type": "code",
   "execution_count": 3,
   "metadata": {},
   "outputs": [
    {
     "data": {
      "text/html": [
       "<div>\n",
       "<style scoped>\n",
       "    .dataframe tbody tr th:only-of-type {\n",
       "        vertical-align: middle;\n",
       "    }\n",
       "\n",
       "    .dataframe tbody tr th {\n",
       "        vertical-align: top;\n",
       "    }\n",
       "\n",
       "    .dataframe thead th {\n",
       "        text-align: right;\n",
       "    }\n",
       "</style>\n",
       "<table border=\"1\" class=\"dataframe\">\n",
       "  <thead>\n",
       "    <tr style=\"text-align: right;\">\n",
       "      <th></th>\n",
       "      <th>No.</th>\n",
       "      <th>Match Week</th>\n",
       "      <th>Date</th>\n",
       "      <th>Player</th>\n",
       "      <th>Team</th>\n",
       "      <th>Versus</th>\n",
       "      <th>Match</th>\n",
       "      <th>Time of Penalty Awarded</th>\n",
       "      <th>Scored</th>\n",
       "      <th>Foot</th>\n",
       "      <th>Kick_Direction</th>\n",
       "      <th>Keeper_Direction</th>\n",
       "    </tr>\n",
       "  </thead>\n",
       "  <tbody>\n",
       "    <tr>\n",
       "      <th>0</th>\n",
       "      <td>1</td>\n",
       "      <td>1</td>\n",
       "      <td>13-Aug-16</td>\n",
       "      <td>Riyad Mahrez</td>\n",
       "      <td>Leicester</td>\n",
       "      <td>Hull</td>\n",
       "      <td>Hull vs Leicester</td>\n",
       "      <td>47' minute</td>\n",
       "      <td>Scored</td>\n",
       "      <td>L</td>\n",
       "      <td>C</td>\n",
       "      <td>R</td>\n",
       "    </tr>\n",
       "    <tr>\n",
       "      <th>1</th>\n",
       "      <td>2</td>\n",
       "      <td>1</td>\n",
       "      <td>13-Aug-16</td>\n",
       "      <td>Sergio Agüero</td>\n",
       "      <td>Man City</td>\n",
       "      <td>Sunderland</td>\n",
       "      <td>Man City vs Sunderland</td>\n",
       "      <td>4' minute</td>\n",
       "      <td>Scored</td>\n",
       "      <td>R</td>\n",
       "      <td>L</td>\n",
       "      <td>L</td>\n",
       "    </tr>\n",
       "    <tr>\n",
       "      <th>2</th>\n",
       "      <td>3</td>\n",
       "      <td>1</td>\n",
       "      <td>14-Aug-16</td>\n",
       "      <td>Theo Walcott</td>\n",
       "      <td>Arsenal</td>\n",
       "      <td>Liverpool</td>\n",
       "      <td>Arsenal vs Liverpool</td>\n",
       "      <td>30' minute</td>\n",
       "      <td>Missed</td>\n",
       "      <td>R</td>\n",
       "      <td>L</td>\n",
       "      <td>L</td>\n",
       "    </tr>\n",
       "    <tr>\n",
       "      <th>3</th>\n",
       "      <td>4</td>\n",
       "      <td>1</td>\n",
       "      <td>15-Aug-16</td>\n",
       "      <td>Eden Hazard</td>\n",
       "      <td>Chelsea</td>\n",
       "      <td>West Ham</td>\n",
       "      <td>Chelsea vs West Ham</td>\n",
       "      <td>47' minute</td>\n",
       "      <td>Scored</td>\n",
       "      <td>R</td>\n",
       "      <td>C</td>\n",
       "      <td>L</td>\n",
       "    </tr>\n",
       "    <tr>\n",
       "      <th>4</th>\n",
       "      <td>5</td>\n",
       "      <td>2</td>\n",
       "      <td>19-Aug-16</td>\n",
       "      <td>Zlatan Ibrahimovic</td>\n",
       "      <td>Man United</td>\n",
       "      <td>Southampton</td>\n",
       "      <td>Man United vs Southampton</td>\n",
       "      <td>52' minute</td>\n",
       "      <td>Scored</td>\n",
       "      <td>R</td>\n",
       "      <td>L</td>\n",
       "      <td>R</td>\n",
       "    </tr>\n",
       "  </tbody>\n",
       "</table>\n",
       "</div>"
      ],
      "text/plain": [
       "   No.  Match Week       Date              Player        Team       Versus  \\\n",
       "0    1           1  13-Aug-16        Riyad Mahrez   Leicester         Hull   \n",
       "1    2           1  13-Aug-16       Sergio Agüero    Man City   Sunderland   \n",
       "2    3           1  14-Aug-16        Theo Walcott     Arsenal    Liverpool   \n",
       "3    4           1  15-Aug-16         Eden Hazard     Chelsea     West Ham   \n",
       "4    5           2  19-Aug-16  Zlatan Ibrahimovic  Man United  Southampton   \n",
       "\n",
       "                       Match Time of Penalty Awarded  Scored Foot  \\\n",
       "0          Hull vs Leicester              47' minute  Scored    L   \n",
       "1     Man City vs Sunderland               4' minute  Scored    R   \n",
       "2       Arsenal vs Liverpool              30' minute  Missed    R   \n",
       "3        Chelsea vs West Ham              47' minute  Scored    R   \n",
       "4  Man United vs Southampton              52' minute  Scored    R   \n",
       "\n",
       "  Kick_Direction Keeper_Direction  \n",
       "0              C                R  \n",
       "1              L                L  \n",
       "2              L                L  \n",
       "3              C                L  \n",
       "4              L                R  "
      ]
     },
     "execution_count": 3,
     "metadata": {},
     "output_type": "execute_result"
    }
   ],
   "source": [
    "# Understanding dataset\n",
    "penaltyData.shape\n",
    "penaltyData.head()"
   ]
  },
  {
   "cell_type": "code",
   "execution_count": 4,
   "metadata": {},
   "outputs": [
    {
     "data": {
      "text/plain": [
       "No.                        0\n",
       "Match Week                 0\n",
       "Date                       0\n",
       "Player                     0\n",
       "Team                       0\n",
       "Versus                     0\n",
       "Match                      0\n",
       "Time of Penalty Awarded    0\n",
       "Scored                     0\n",
       "Foot                       0\n",
       "Kick_Direction             0\n",
       "Keeper_Direction           0\n",
       "dtype: int64"
      ]
     },
     "execution_count": 4,
     "metadata": {},
     "output_type": "execute_result"
    }
   ],
   "source": [
    "# Checking any null entry in dataset\n",
    "penaltyData.isnull().sum(axis=0)"
   ]
  },
  {
   "cell_type": "code",
   "execution_count": 5,
   "metadata": {},
   "outputs": [
    {
     "name": "stdout",
     "output_type": "stream",
     "text": [
      "45\n",
      "52\n",
      "6\n"
     ]
    }
   ],
   "source": [
    "# Print the number of L,R,C entry of keeper direction\n",
    "\n",
    "print(len(penaltyData[penaltyData.Keeper_Direction == 'L']))\n",
    "print(len(penaltyData[penaltyData.Keeper_Direction == 'R']))\n",
    "print(len(penaltyData[penaltyData.Keeper_Direction == 'C']))"
   ]
  },
  {
   "cell_type": "code",
   "execution_count": 6,
   "metadata": {},
   "outputs": [],
   "source": [
    "# remove row where keeper direction is Center as very less data is there\n",
    "penaltyData = penaltyData[penaltyData.Keeper_Direction != 'C']"
   ]
  },
  {
   "cell_type": "code",
   "execution_count": 7,
   "metadata": {},
   "outputs": [
    {
     "data": {
      "text/plain": [
       "Index(['No.', 'Match Week', 'Date', 'Player', 'Team', 'Versus', 'Match',\n",
       "       'Time of Penalty Awarded', 'Scored', 'Foot', 'Kick_Direction',\n",
       "       'Keeper_Direction'],\n",
       "      dtype='object')"
      ]
     },
     "execution_count": 7,
     "metadata": {},
     "output_type": "execute_result"
    }
   ],
   "source": [
    "# Printing columns of dataset\n",
    "penaltyData.columns"
   ]
  },
  {
   "cell_type": "code",
   "execution_count": 8,
   "metadata": {},
   "outputs": [
    {
     "name": "stderr",
     "output_type": "stream",
     "text": [
      "C:\\Anaconda3\\lib\\site-packages\\ipykernel_launcher.py:4: SettingWithCopyWarning: \n",
      "A value is trying to be set on a copy of a slice from a DataFrame\n",
      "\n",
      "See the caveats in the documentation: http://pandas.pydata.org/pandas-docs/stable/indexing.html#indexing-view-versus-copy\n",
      "  after removing the cwd from sys.path.\n"
     ]
    }
   ],
   "source": [
    "# Convert string value of keeper direction into Number\n",
    "\n",
    "penaltyData.Keeper_Direction[penaltyData.Keeper_Direction == 'L'] = 0\n",
    "penaltyData.Keeper_Direction[penaltyData.Keeper_Direction == 'R'] = 1\n",
    "penaltyData.Keeper_Direction = penaltyData.Keeper_Direction.astype('int')"
   ]
  },
  {
   "cell_type": "code",
   "execution_count": 9,
   "metadata": {},
   "outputs": [],
   "source": [
    "# Creating dummy variables\n",
    "cat_vars=['Foot', 'Kick_Direction', 'Scored']\n",
    "for var in cat_vars:\n",
    "    cat_list='var'+'_'+var\n",
    "    cat_list = pd.get_dummies(penaltyData[var], prefix=var)\n",
    "    penaltyData1 = penaltyData.join(cat_list)\n",
    "    penaltyData = penaltyData1\n",
    "\n",
    "cat_vars=['Foot', 'Kick_Direction', 'Scored']\n",
    "data_vars = penaltyData.columns.values.tolist()\n",
    "to_keep=[i for i in data_vars if i not in cat_vars]"
   ]
  },
  {
   "cell_type": "code",
   "execution_count": 10,
   "metadata": {},
   "outputs": [
    {
     "data": {
      "text/plain": [
       "array(['No.', 'Match Week', 'Date', 'Player', 'Team', 'Versus', 'Match',\n",
       "       'Time of Penalty Awarded', 'Keeper_Direction', 'Foot_L', 'Foot_R',\n",
       "       'Kick_Direction_C', 'Kick_Direction_L', 'Kick_Direction_R',\n",
       "       'Scored_Missed', 'Scored_Scored'], dtype=object)"
      ]
     },
     "execution_count": 10,
     "metadata": {},
     "output_type": "execute_result"
    }
   ],
   "source": [
    "data_final=penaltyData[to_keep]\n",
    "data_final.columns.values"
   ]
  },
  {
   "cell_type": "code",
   "execution_count": 11,
   "metadata": {},
   "outputs": [],
   "source": [
    "# Removing not necessart data from dataset\n",
    "data_final=data_final.drop(['No.', 'Match Week', 'Date', 'Player', 'Team', 'Versus', 'Match', 'Time of Penalty Awarded'], axis =1)"
   ]
  },
  {
   "cell_type": "code",
   "execution_count": 12,
   "metadata": {},
   "outputs": [
    {
     "data": {
      "text/plain": [
       "Index(['Keeper_Direction', 'Foot_L', 'Foot_R', 'Kick_Direction_C',\n",
       "       'Kick_Direction_L', 'Kick_Direction_R', 'Scored_Missed',\n",
       "       'Scored_Scored'],\n",
       "      dtype='object')"
      ]
     },
     "execution_count": 12,
     "metadata": {},
     "output_type": "execute_result"
    }
   ],
   "source": [
    "# Printing columns of dataset after dropping unnecessary column\n",
    "data_final.columns"
   ]
  },
  {
   "cell_type": "code",
   "execution_count": 13,
   "metadata": {},
   "outputs": [],
   "source": [
    "#Split into independent and dependent variable\n",
    "X=data_final[['Foot_L', 'Foot_R', 'Kick_Direction_C', 'Kick_Direction_L', 'Kick_Direction_R', 'Scored_Missed', 'Scored_Scored']]\n",
    "y=data_final.Keeper_Direction"
   ]
  },
  {
   "cell_type": "code",
   "execution_count": 14,
   "metadata": {},
   "outputs": [],
   "source": [
    "# Splitting the dataset into the Training set and Test set\n",
    "X_train, X_test, y_train, y_test = train_test_split(X, y, test_size=0.25, random_state=0)"
   ]
  },
  {
   "cell_type": "code",
   "execution_count": 15,
   "metadata": {},
   "outputs": [
    {
     "name": "stdout",
     "output_type": "stream",
     "text": [
      "Accuracy = 0.64\n"
     ]
    }
   ],
   "source": [
    "# Compute with DecisionTreeClassifier\n",
    "\n",
    "from sklearn.tree import DecisionTreeClassifier\n",
    "classifier = DecisionTreeClassifier(max_depth=3)\n",
    "classifier.fit(X_train, y_train)\n",
    "y_pred = classifier.predict(X_test)\n",
    "\n",
    "print('Accuracy = {:.2f}'.format(classifier.score(X_test,y_test)))"
   ]
  },
  {
   "cell_type": "code",
   "execution_count": 18,
   "metadata": {},
   "outputs": [
    {
     "name": "stdout",
     "output_type": "stream",
     "text": [
      "[[9 3]\n",
      " [6 7]]\n",
      "              precision    recall  f1-score   support\n",
      "\n",
      "           0       0.60      0.75      0.67        12\n",
      "           1       0.70      0.54      0.61        13\n",
      "\n",
      "   micro avg       0.64      0.64      0.64        25\n",
      "   macro avg       0.65      0.64      0.64        25\n",
      "weighted avg       0.65      0.64      0.64        25\n",
      "\n",
      "0.64\n"
     ]
    }
   ],
   "source": [
    "# Calculating accuracy of model\n",
    "\n",
    "print(confusion_matrix(y_test,y_pred))  \n",
    "print(classification_report(y_test,y_pred))  \n",
    "print(accuracy_score(y_test, y_pred))  "
   ]
  },
  {
   "cell_type": "code",
   "execution_count": null,
   "metadata": {},
   "outputs": [],
   "source": []
  }
 ],
 "metadata": {
  "kernelspec": {
   "display_name": "Python 3",
   "language": "python",
   "name": "python3"
  },
  "language_info": {
   "codemirror_mode": {
    "name": "ipython",
    "version": 3
   },
   "file_extension": ".py",
   "mimetype": "text/x-python",
   "name": "python",
   "nbconvert_exporter": "python",
   "pygments_lexer": "ipython3",
   "version": "3.7.1"
  }
 },
 "nbformat": 4,
 "nbformat_minor": 2
}
